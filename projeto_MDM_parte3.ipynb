{
 "cells": [
  {
   "cell_type": "code",
   "execution_count": 1,
   "metadata": {},
   "outputs": [],
   "source": [
    "periodo = 'pre-pandemia'"
   ]
  },
  {
   "cell_type": "markdown",
   "metadata": {},
   "source": [
    "# Importe as bibliotecas necessárias"
   ]
  },
  {
   "cell_type": "code",
   "execution_count": 2,
   "metadata": {
    "_uuid": "3e410c3508beb0ff1c681badbacb4e0d32ceeb0a"
   },
   "outputs": [
    {
     "name": "stdout",
     "output_type": "stream",
     "text": [
      "WARNING:tensorflow:From d:\\Java\\Workspace_Python\\py311\\Lib\\site-packages\\keras\\src\\losses.py:2976: The name tf.losses.sparse_softmax_cross_entropy is deprecated. Please use tf.compat.v1.losses.sparse_softmax_cross_entropy instead.\n",
      "\n"
     ]
    }
   ],
   "source": [
    "%matplotlib inline\n",
    "from warnings import filterwarnings\n",
    "\n",
    "from IPython.display import clear_output\n",
    "from sklearn.ensemble import RandomForestClassifier\n",
    "from sklearn.metrics import accuracy_score\n",
    "from sklearn.metrics import precision_score, recall_score, f1_score \n",
    "from sklearn.model_selection import KFold, cross_val_predict\n",
    "from sklearn.model_selection import train_test_split\n",
    "from sklearn.neural_network._multilayer_perceptron import MLPClassifier\n",
    "from sklearn.preprocessing import LabelEncoder\n",
    "from sklearn.preprocessing import StandardScaler\n",
    "from sklearn.svm import LinearSVC\n",
    "from sklearn.tree._classes import DecisionTreeClassifier\n",
    "import multiprocessing\n",
    "import numpy as np\n",
    "import pandas as pd\n",
    "\n",
    "filterwarnings('ignore')\n",
    "import tensorflow as tf\n",
    "\n",
    "\n",
    "np.random.seed(42)\n",
    "tf.random.set_seed(42)\n",
    "\n",
    "n_jobs = multiprocessing.cpu_count() - 1"
   ]
  },
  {
   "cell_type": "code",
   "execution_count": 3,
   "metadata": {},
   "outputs": [],
   "source": [
    "def avaliacao(y_val, predicao):\n",
    "    '''\n",
    "    Computa as mericas de avaliação dos clasficadores\n",
    "    '''\n",
    "        \n",
    "    precisao = precision_score(y_val, predicao) * 100\n",
    "    revocacao = recall_score(y_val, predicao) * 100\n",
    "    f1score = f1_score(y_val, predicao) * 100\n",
    "    acuracia = accuracy_score(y_val, predicao) * 100\n",
    "    print('precisao {:.2f}'.format(precisao))\n",
    "    print('revocacao {:.2f}'.format(revocacao))\n",
    "    print('f1-score {:.2f}'.format(f1score))\n",
    "    print('acuracia {:.2f}'.format(acuracia))\n",
    "    print()\n",
    "    \n",
    "def modeloML(model, x_train, y_train, x_val, y_val, cv, name):\n",
    "    \n",
    "    print(name)\n",
    "    model.fit(x_train, y_train)\n",
    "    predicao = cross_val_predict(model, x_val, y_val, cv=cv)\n",
    "    avaliacao(y_val, predicao)\n",
    "    \n",
    "    #plotarMatrizConfusao(y_val, predicao, nome_classificador)\n"
   ]
  },
  {
   "cell_type": "code",
   "execution_count": 4,
   "metadata": {},
   "outputs": [],
   "source": [
    "\n",
    "train_ratio = 0.70\n",
    "validation_ratio = 0.15\n",
    "test_ratio = 0.15\n",
    "\n",
    "choq = ['volumeTweets_media', 'volumeTweets_variancia', 'volumeTweets_mediaMovelPonterada', 'volumeTweets_entropia', \n",
    " 'indiceInsonia_mediaMovelPonterada', 'indiceInsonia_entropia', \n",
    " 'pronome1Pessoa_media', 'pronome1Pessoa_variancia', 'pronome1Pessoa_mediaMovelPonterada', 'pronome1Pessoa_entropia', \n",
    " 'pronome2Pessoa_mediaMovelPonterada', \n",
    " 'pronome3Pessoa_variancia', 'pronome3Pessoa_mediaMovelPonterada', 'pronome3Pessoa_entropia', \n",
    " 'valencia_variancia', 'valencia_entropia', \n",
    " 'ativacao_variancia', 'ativacao_entropia', \n",
    " 'termosDepressivos_mediaMovelPonterada', \n",
    " 'grafoSocial_variancia', 'grafoSocial_mediaMovelPonterada', 'grafoSocial_entropia',\n",
    " 'medicamentosAntiDepressivo_variancia'\n",
    " ]\n",
    "\n",
    "\n",
    "atributos_anterioes = ['caracteresOrientais_variancia', \n",
    " 'emojis_mediaMovelPonterada', \n",
    " 'curtidas_media', 'curtidas_variancia', 'curtidas_mediaMovelPonterada',\n",
    " 'midia_variancia',\n",
    " 'links_entropia',\n",
    " ]\n",
    "\n",
    "atributos_novos = ['hashtags_variancia', 'hashtags_mediaMovelPonterada', \n",
    "                   'retweets_media', 'retweets_variancia', 'retweets_mediaMovelPonterada', \n",
    " 'mencoes_media', 'mencoes_variancia', 'mencoes_mediaMovelPonterada', \n",
    " 'polaridade_entropia', \n",
    " 'subjetividade_entropia']\n",
    "\n",
    "\n"
   ]
  },
  {
   "cell_type": "code",
   "execution_count": 5,
   "metadata": {},
   "outputs": [],
   "source": [
    "df = pd.read_csv(f'datasets/twitterbase_{periodo}.csv', sep=';')\n",
    "label_encoder = LabelEncoder()\n",
    "df['classe'] = label_encoder.fit_transform(df['classe']).astype('float64')\n",
    "\n",
    "cv = KFold(n_splits=10, shuffle=True, random_state=42)\n",
    "zscore = StandardScaler()\n",
    "\n",
    "x = df.drop('classe', axis=1).copy()\n",
    "y = df['classe'].copy()\n",
    "x = zscore.fit_transform(x)\n",
    "\n",
    "df1 = df[choq + ['classe']].copy()\n",
    "df2 = df[choq + atributos_anterioes + ['classe']].copy()\n",
    "df3 = df[choq + atributos_novos + ['classe']].copy()\n",
    "\n",
    "x1 = df1.drop('classe', axis=1).copy()\n",
    "y1 = df1['classe'].copy()\n",
    "x1 = zscore.fit_transform(x1)\n",
    "\n",
    "x2 = df2.drop('classe', axis=1).copy()\n",
    "y2 = df2['classe'].copy()\n",
    "x2 = zscore.fit_transform(x2)\n",
    "\n",
    "x3 = df3.drop('classe', axis=1).copy()\n",
    "y3 = df3['classe'].copy()\n",
    "x3 = zscore.fit_transform(x3)\n",
    "\n",
    "x4 = df.drop('classe', axis=1).copy()\n",
    "y4 = df['classe'].copy()\n",
    "x4 = zscore.fit_transform(x4)"
   ]
  },
  {
   "cell_type": "code",
   "execution_count": 6,
   "metadata": {},
   "outputs": [
    {
     "name": "stdout",
     "output_type": "stream",
     "text": [
      "Árvore de Decisão (Baseline)\n",
      "precisao 71.15\n",
      "revocacao 82.84\n",
      "f1-score 76.55\n",
      "acuracia 73.21\n",
      "\n",
      "Floresta Randômica\n",
      "precisao 73.35\n",
      "revocacao 86.01\n",
      "f1-score 79.18\n",
      "acuracia 76.12\n",
      "\n",
      "Perceptron Multicamadas\n",
      "precisao 73.99\n",
      "revocacao 83.96\n",
      "f1-score 78.66\n",
      "acuracia 75.95\n",
      "\n",
      "SVM\n",
      "precisao 75.73\n",
      "revocacao 68.71\n",
      "f1-score 72.05\n",
      "acuracia 71.86\n",
      "\n"
     ]
    }
   ],
   "source": [
    "x_train, x_val, y_train, y_val = train_test_split(x1, y1, test_size=validation_ratio, random_state=42)\n",
    "x_train, x_test, y_train, y_test = train_test_split(x_train, y_train, test_size=test_ratio, random_state=42)\n",
    "\n",
    "baseline = DecisionTreeClassifier(random_state=42, max_depth=10, criterion='gini')\n",
    "florestaRandomica = RandomForestClassifier(random_state=42, verbose=0, n_jobs=n_jobs, max_depth=10, criterion='gini', n_estimators=50)\n",
    "perceptronMulticamadas = MLPClassifier(random_state=42, max_iter=100, n_iter_no_change=20, batch_size=128, early_stopping=True, solver='adam', shuffle=True, activation='relu', hidden_layer_sizes=(50, 50))\n",
    "svm = LinearSVC(random_state=42, verbose=0, max_iter=100, C=0.1, loss='squared_hinge', penalty='l2')\n",
    "modeloML(baseline, x_train, y_train, x_val, y_val, cv, 'Árvore de Decisão (Baseline)')\n",
    "modeloML(florestaRandomica, x_train, y_train, x_val, y_val, cv, 'Floresta Randômica')\n",
    "modeloML(perceptronMulticamadas, x_train, y_train, x_val, y_val, cv, 'Perceptron Multicamadas')\n",
    "modeloML(svm, x_train, y_train, x_val, y_val, cv, 'SVM')"
   ]
  },
  {
   "cell_type": "code",
   "execution_count": 7,
   "metadata": {},
   "outputs": [
    {
     "name": "stdout",
     "output_type": "stream",
     "text": [
      "Árvore de Decisão (Baseline)\n",
      "precisao 71.93\n",
      "revocacao 81.63\n",
      "f1-score 76.48\n",
      "acuracia 73.49\n",
      "\n",
      "Floresta Randômica\n",
      "precisao 73.82\n",
      "revocacao 86.46\n",
      "f1-score 79.64\n",
      "acuracia 76.66\n",
      "\n",
      "Perceptron Multicamadas\n",
      "precisao 74.66\n",
      "revocacao 82.49\n",
      "f1-score 78.38\n",
      "acuracia 75.98\n",
      "\n",
      "SVM\n",
      "precisao 75.79\n",
      "revocacao 69.38\n",
      "f1-score 72.45\n",
      "acuracia 72.14\n",
      "\n"
     ]
    }
   ],
   "source": [
    "x_train, x_val, y_train, y_val = train_test_split(x2, y2, test_size=validation_ratio, random_state=42)\n",
    "x_train, x_test, y_train, y_test = train_test_split(x_train, y_train, test_size=test_ratio, random_state=42)\n",
    "\n",
    "baseline = DecisionTreeClassifier(random_state=42, max_depth=10, criterion='gini')\n",
    "florestaRandomica = RandomForestClassifier(random_state=42, verbose=0, n_jobs=n_jobs, max_depth=10, criterion='gini', n_estimators=50)\n",
    "perceptronMulticamadas = MLPClassifier(random_state=42, max_iter=100, n_iter_no_change=20, batch_size=128, early_stopping=True, solver='adam', shuffle=True, activation='relu', hidden_layer_sizes=(50, 50))\n",
    "svm = LinearSVC(random_state=42, verbose=0, max_iter=100, C=0.1, loss='squared_hinge', penalty='l2')\n",
    "modeloML(baseline, x_train, y_train, x_val, y_val, cv, 'Árvore de Decisão (Baseline)')\n",
    "modeloML(florestaRandomica, x_train, y_train, x_val, y_val, cv, 'Floresta Randômica')\n",
    "modeloML(perceptronMulticamadas, x_train, y_train, x_val, y_val, cv, 'Perceptron Multicamadas')\n",
    "modeloML(svm, x_train, y_train, x_val, y_val, cv, 'SVM')"
   ]
  },
  {
   "cell_type": "code",
   "execution_count": 8,
   "metadata": {},
   "outputs": [
    {
     "name": "stdout",
     "output_type": "stream",
     "text": [
      "Árvore de Decisão (Baseline)\n",
      "precisao 71.98\n",
      "revocacao 81.88\n",
      "f1-score 76.61\n",
      "acuracia 73.61\n",
      "\n",
      "Floresta Randômica\n",
      "precisao 73.86\n",
      "revocacao 86.69\n",
      "f1-score 79.76\n",
      "acuracia 76.77\n",
      "\n",
      "Perceptron Multicamadas\n",
      "precisao 74.46\n",
      "revocacao 84.75\n",
      "f1-score 79.27\n",
      "acuracia 76.60\n",
      "\n",
      "SVM\n",
      "precisao 76.33\n",
      "revocacao 69.67\n",
      "f1-score 72.85\n",
      "acuracia 72.58\n",
      "\n"
     ]
    }
   ],
   "source": [
    "x_train, x_val, y_train, y_val = train_test_split(x3, y3, test_size=validation_ratio, random_state=42)\n",
    "x_train, x_test, y_train, y_test = train_test_split(x_train, y_train, test_size=test_ratio, random_state=42)\n",
    "\n",
    "baseline = DecisionTreeClassifier(random_state=42, max_depth=10, criterion='gini')\n",
    "florestaRandomica = RandomForestClassifier(random_state=42, verbose=0, n_jobs=n_jobs, max_depth=10, criterion='gini', n_estimators=50)\n",
    "perceptronMulticamadas = MLPClassifier(random_state=42, max_iter=100, n_iter_no_change=20, batch_size=128, early_stopping=True, solver='adam', shuffle=True, activation='relu', hidden_layer_sizes=(50, 50))\n",
    "svm = LinearSVC(random_state=42, verbose=0, max_iter=100, C=0.1, loss='squared_hinge', penalty='l2')\n",
    "modeloML(baseline, x_train, y_train, x_val, y_val, cv, 'Árvore de Decisão (Baseline)')\n",
    "modeloML(florestaRandomica, x_train, y_train, x_val, y_val, cv, 'Floresta Randômica')\n",
    "modeloML(perceptronMulticamadas, x_train, y_train, x_val, y_val, cv, 'Perceptron Multicamadas')\n",
    "modeloML(svm, x_train, y_train, x_val, y_val, cv, 'SVM')"
   ]
  },
  {
   "cell_type": "code",
   "execution_count": 9,
   "metadata": {},
   "outputs": [
    {
     "name": "stdout",
     "output_type": "stream",
     "text": [
      "Árvore de Decisão (Baseline)\n",
      "precisao 71.46\n",
      "revocacao 80.69\n",
      "f1-score 75.80\n",
      "acuracia 72.79\n",
      "\n",
      "Floresta Randômica\n",
      "precisao 74.70\n",
      "revocacao 87.22\n",
      "f1-score 80.48\n",
      "acuracia 77.66\n",
      "\n",
      "Perceptron Multicamadas\n",
      "precisao 77.10\n",
      "revocacao 81.83\n",
      "f1-score 79.39\n",
      "acuracia 77.58\n",
      "\n",
      "SVM\n",
      "precisao 76.05\n",
      "revocacao 72.66\n",
      "f1-score 74.32\n",
      "acuracia 73.49\n",
      "\n"
     ]
    }
   ],
   "source": [
    "x_train, x_val, y_train, y_val = train_test_split(x4, y4, test_size=validation_ratio, random_state=42)\n",
    "x_train, x_test, y_train, y_test = train_test_split(x_train, y_train, test_size=test_ratio, random_state=42)\n",
    "\n",
    "baseline = DecisionTreeClassifier(random_state=42, max_depth=10, criterion='gini')\n",
    "florestaRandomica = RandomForestClassifier(random_state=42, verbose=0, n_jobs=n_jobs, max_depth=10, criterion='gini', n_estimators=50)\n",
    "perceptronMulticamadas = MLPClassifier(random_state=42, max_iter=100, n_iter_no_change=20, batch_size=128, early_stopping=True, solver='adam', shuffle=True, activation='relu', hidden_layer_sizes=(50, 50))\n",
    "svm = LinearSVC(random_state=42, verbose=0, max_iter=100, C=0.1, loss='squared_hinge', penalty='l2')\n",
    "modeloML(baseline, x_train, y_train, x_val, y_val, cv, 'Árvore de Decisão (Baseline)')\n",
    "modeloML(florestaRandomica, x_train, y_train, x_val, y_val, cv, 'Floresta Randômica')\n",
    "modeloML(perceptronMulticamadas, x_train, y_train, x_val, y_val, cv, 'Perceptron Multicamadas')\n",
    "modeloML(svm, x_train, y_train, x_val, y_val, cv, 'SVM')"
   ]
  },
  {
   "cell_type": "markdown",
   "metadata": {},
   "source": [
    "# Pandemia"
   ]
  },
  {
   "cell_type": "code",
   "execution_count": 10,
   "metadata": {},
   "outputs": [],
   "source": [
    "periodo = 'pandemia'"
   ]
  },
  {
   "cell_type": "code",
   "execution_count": 11,
   "metadata": {},
   "outputs": [],
   "source": [
    "\n",
    "train_ratio = 0.70\n",
    "validation_ratio = 0.15\n",
    "test_ratio = 0.15\n",
    "\n",
    "choq = ['volumeTweets_media', 'volumeTweets_variancia', 'volumeTweets_mediaMovelPonterada', 'volumeTweets_entropia', \n",
    "'indiceInsonia_variancia', 'indiceInsonia_mediaMovelPonterada', 'indiceInsonia_entropia', \n",
    "'pronome1Pessoa_media', 'pronome1Pessoa_variancia', 'pronome1Pessoa_mediaMovelPonterada', 'pronome1Pessoa_entropia', \n",
    "'pronome2Pessoa_mediaMovelPonterada', \n",
    "'pronome3Pessoa_media', 'pronome3Pessoa_variancia', 'pronome3Pessoa_mediaMovelPonterada', 'pronome3Pessoa_entropia', \n",
    "'valencia_mediaMovelPonterada', 'valencia_entropia', \n",
    "'ativacao_mediaMovelPonterada', 'ativacao_entropia', \n",
    "'termosDepressivos_variancia', \n",
    "'grafoSocial_variancia', 'grafoSocial_mediaMovelPonterada', 'grafoSocial_entropia',\n",
    "'medicamentosAntiDepressivo_mediaMovelPonterada'\n",
    "]\n",
    "\n",
    "\n",
    "atributos_anterioes = ['caracteresOrientais_variancia', \n",
    "'emojis_variancia', \n",
    "'midia_variancia', 'midia_mediaMovelPonterada', \n",
    "'curtidas_media', 'curtidas_variancia', 'curtidas_mediaMovelPonterada',\n",
    "'links_mediaMovelPonterada'\n",
    "]\n",
    "\n",
    "atributos_novos = ['hashtags_variancia', 'hashtags_mediaMovelPonterada', \n",
    "'retweets_variancia', \n",
    "'mencoes_variancia', 'mencoes_mediaMovelPonterada', \n",
    "'polaridade_entropia', \n",
    "'subjetividade_entropia'\n",
    "]"
   ]
  },
  {
   "cell_type": "code",
   "execution_count": 12,
   "metadata": {},
   "outputs": [],
   "source": [
    "df = pd.read_csv(f'datasets/twitterbase_{periodo}.csv', sep=';')\n",
    "label_encoder = LabelEncoder()\n",
    "df['classe'] = label_encoder.fit_transform(df['classe']).astype('float64')\n",
    "\n",
    "cv = KFold(n_splits=10, shuffle=True, random_state=42)\n",
    "zscore = StandardScaler()\n",
    "\n",
    "df1 = df[choq + ['classe']].copy()\n",
    "df2 = df[choq + atributos_anterioes + ['classe']].copy()\n",
    "df3 = df[choq + atributos_novos + ['classe']].copy()\n",
    "\n",
    "x1 = df1.drop('classe', axis=1).copy()\n",
    "y1 = df1['classe'].copy()\n",
    "x1 = zscore.fit_transform(x1)\n",
    "\n",
    "x2 = df2.drop('classe', axis=1).copy()\n",
    "y2 = df2['classe'].copy()\n",
    "x2 = zscore.fit_transform(x2)\n",
    "\n",
    "x3 = df3.drop('classe', axis=1).copy()\n",
    "y3 = df3['classe'].copy()\n",
    "x3 = zscore.fit_transform(x3)\n",
    "\n",
    "x4 = df.drop('classe', axis=1).copy()\n",
    "y4 = df['classe'].copy()\n",
    "x4 = zscore.fit_transform(x4)"
   ]
  },
  {
   "cell_type": "code",
   "execution_count": 13,
   "metadata": {},
   "outputs": [
    {
     "name": "stdout",
     "output_type": "stream",
     "text": [
      "Árvore de Decisão (Baseline)\n",
      "precisao 70.66\n",
      "revocacao 82.19\n",
      "f1-score 75.99\n",
      "acuracia 72.98\n",
      "\n",
      "Floresta Randômica\n",
      "precisao 71.98\n",
      "revocacao 84.27\n",
      "f1-score 77.64\n",
      "acuracia 74.75\n",
      "\n",
      "Perceptron Multicamadas\n",
      "precisao 73.53\n",
      "revocacao 81.95\n",
      "f1-score 77.51\n",
      "acuracia 75.27\n",
      "\n",
      "SVM\n",
      "precisao 74.48\n",
      "revocacao 71.03\n",
      "f1-score 72.71\n",
      "acuracia 72.27\n",
      "\n"
     ]
    }
   ],
   "source": [
    "x_train, x_val, y_train, y_val = train_test_split(x1, y1, test_size=validation_ratio, random_state=42)\n",
    "x_train, x_test, y_train, y_test = train_test_split(x_train, y_train, test_size=test_ratio, random_state=42)\n",
    "\n",
    "baseline = DecisionTreeClassifier(random_state=42, max_depth=10, criterion='entropy')\n",
    "florestaRandomica = RandomForestClassifier(random_state=42, verbose=0, n_jobs=n_jobs, max_depth=10, criterion='gini', n_estimators=50)\n",
    "perceptronMulticamadas = MLPClassifier(random_state=42, max_iter=100, n_iter_no_change=20, batch_size=128, early_stopping=True, solver='adam', shuffle=True, activation='relu', hidden_layer_sizes=(50, 50))\n",
    "svm = LinearSVC(random_state=42, verbose=0, max_iter=100, C=1.0, loss='squared_hinge', penalty='l2')\n",
    "modeloML(baseline, x_train, y_train, x_val, y_val, cv, 'Árvore de Decisão (Baseline)')\n",
    "modeloML(florestaRandomica, x_train, y_train, x_val, y_val, cv, 'Floresta Randômica')\n",
    "modeloML(perceptronMulticamadas, x_train, y_train, x_val, y_val, cv, 'Perceptron Multicamadas')\n",
    "modeloML(svm, x_train, y_train, x_val, y_val, cv, 'SVM')"
   ]
  },
  {
   "cell_type": "code",
   "execution_count": 14,
   "metadata": {},
   "outputs": [
    {
     "name": "stdout",
     "output_type": "stream",
     "text": [
      "Árvore de Decisão (Baseline)\n",
      "precisao 70.02\n",
      "revocacao 81.33\n",
      "f1-score 75.25\n",
      "acuracia 72.18\n",
      "\n",
      "Floresta Randômica\n",
      "precisao 72.04\n",
      "revocacao 84.87\n",
      "f1-score 77.93\n",
      "acuracia 74.99\n",
      "\n",
      "Perceptron Multicamadas\n",
      "precisao 73.84\n",
      "revocacao 81.39\n",
      "f1-score 77.43\n",
      "acuracia 75.32\n",
      "\n",
      "SVM\n",
      "precisao 74.10\n",
      "revocacao 71.79\n",
      "f1-score 72.93\n",
      "acuracia 72.27\n",
      "\n"
     ]
    }
   ],
   "source": [
    "x_train, x_val, y_train, y_val = train_test_split(x2, y2, test_size=validation_ratio, random_state=42)\n",
    "x_train, x_test, y_train, y_test = train_test_split(x_train, y_train, test_size=test_ratio, random_state=42)\n",
    "\n",
    "baseline = DecisionTreeClassifier(random_state=42, max_depth=10, criterion='entropy')\n",
    "florestaRandomica = RandomForestClassifier(random_state=42, verbose=0, n_jobs=n_jobs, max_depth=10, criterion='gini', n_estimators=50)\n",
    "perceptronMulticamadas = MLPClassifier(random_state=42, max_iter=100, n_iter_no_change=20, batch_size=128, early_stopping=True, solver='adam', shuffle=True, activation='relu', hidden_layer_sizes=(50, 50))\n",
    "svm = LinearSVC(random_state=42, verbose=0, max_iter=100, C=1.0, loss='squared_hinge', penalty='l2')\n",
    "modeloML(baseline, x_train, y_train, x_val, y_val, cv, 'Árvore de Decisão (Baseline)')\n",
    "modeloML(florestaRandomica, x_train, y_train, x_val, y_val, cv, 'Floresta Randômica')\n",
    "modeloML(perceptronMulticamadas, x_train, y_train, x_val, y_val, cv, 'Perceptron Multicamadas')\n",
    "modeloML(svm, x_train, y_train, x_val, y_val, cv, 'SVM')"
   ]
  },
  {
   "cell_type": "code",
   "execution_count": 15,
   "metadata": {},
   "outputs": [
    {
     "name": "stdout",
     "output_type": "stream",
     "text": [
      "Árvore de Decisão (Baseline)\n",
      "precisao 70.28\n",
      "revocacao 82.04\n",
      "f1-score 75.71\n",
      "acuracia 72.61\n",
      "\n",
      "Floresta Randômica\n",
      "precisao 72.35\n",
      "revocacao 84.45\n",
      "f1-score 77.93\n",
      "acuracia 75.12\n",
      "\n",
      "Perceptron Multicamadas\n",
      "precisao 74.09\n",
      "revocacao 81.21\n",
      "f1-score 77.49\n",
      "acuracia 75.45\n",
      "\n",
      "SVM\n",
      "precisao 75.31\n",
      "revocacao 71.88\n",
      "f1-score 73.56\n",
      "acuracia 73.11\n",
      "\n"
     ]
    }
   ],
   "source": [
    "x_train, x_val, y_train, y_val = train_test_split(x3, y3, test_size=validation_ratio, random_state=42)\n",
    "x_train, x_test, y_train, y_test = train_test_split(x_train, y_train, test_size=test_ratio, random_state=42)\n",
    "\n",
    "baseline = DecisionTreeClassifier(random_state=42, max_depth=10, criterion='entropy')\n",
    "florestaRandomica = RandomForestClassifier(random_state=42, verbose=0, n_jobs=n_jobs, max_depth=10, criterion='gini', n_estimators=50)\n",
    "perceptronMulticamadas = MLPClassifier(random_state=42, max_iter=100, n_iter_no_change=20, batch_size=128, early_stopping=True, solver='adam', shuffle=True, activation='relu', hidden_layer_sizes=(50, 50))\n",
    "svm = LinearSVC(random_state=42, verbose=0, max_iter=100, C=1.0, loss='squared_hinge', penalty='l2')\n",
    "modeloML(baseline, x_train, y_train, x_val, y_val, cv, 'Árvore de Decisão (Baseline)')\n",
    "modeloML(florestaRandomica, x_train, y_train, x_val, y_val, cv, 'Floresta Randômica')\n",
    "modeloML(perceptronMulticamadas, x_train, y_train, x_val, y_val, cv, 'Perceptron Multicamadas')\n",
    "modeloML(svm, x_train, y_train, x_val, y_val, cv, 'SVM')"
   ]
  },
  {
   "cell_type": "code",
   "execution_count": 16,
   "metadata": {},
   "outputs": [
    {
     "name": "stdout",
     "output_type": "stream",
     "text": [
      "Árvore de Decisão (Baseline)\n",
      "precisao 69.65\n",
      "revocacao 81.50\n",
      "f1-score 75.11\n",
      "acuracia 71.90\n",
      "\n",
      "Floresta Randômica\n",
      "precisao 73.00\n",
      "revocacao 85.27\n",
      "f1-score 78.66\n",
      "acuracia 75.93\n",
      "\n",
      "Perceptron Multicamadas\n",
      "precisao 75.12\n",
      "revocacao 81.86\n",
      "f1-score 78.34\n",
      "acuracia 76.46\n",
      "\n",
      "SVM\n",
      "precisao 75.71\n",
      "revocacao 73.28\n",
      "f1-score 74.48\n",
      "acuracia 73.87\n",
      "\n"
     ]
    }
   ],
   "source": [
    "x_train, x_val, y_train, y_val = train_test_split(x4, y4, test_size=validation_ratio, random_state=42)\n",
    "x_train, x_test, y_train, y_test = train_test_split(x_train, y_train, test_size=test_ratio, random_state=42)\n",
    "\n",
    "baseline = DecisionTreeClassifier(random_state=42, max_depth=10, criterion='entropy')\n",
    "florestaRandomica = RandomForestClassifier(random_state=42, verbose=0, n_jobs=n_jobs, max_depth=10, criterion='gini', n_estimators=50)\n",
    "perceptronMulticamadas = MLPClassifier(random_state=42, max_iter=100, n_iter_no_change=20, batch_size=128, early_stopping=True, solver='adam', shuffle=True, activation='relu', hidden_layer_sizes=(50, 50))\n",
    "svm = LinearSVC(random_state=42, verbose=0, max_iter=100, C=1.0, loss='squared_hinge', penalty='l2')\n",
    "modeloML(baseline, x_train, y_train, x_val, y_val, cv, 'Árvore de Decisão (Baseline)')\n",
    "modeloML(florestaRandomica, x_train, y_train, x_val, y_val, cv, 'Floresta Randômica')\n",
    "modeloML(perceptronMulticamadas, x_train, y_train, x_val, y_val, cv, 'Perceptron Multicamadas')\n",
    "modeloML(svm, x_train, y_train, x_val, y_val, cv, 'SVM')"
   ]
  }
 ],
 "metadata": {
  "kernelspec": {
   "display_name": "Python 3 (ipykernel)",
   "language": "python",
   "name": "python3"
  },
  "language_info": {
   "codemirror_mode": {
    "name": "ipython",
    "version": 3
   },
   "file_extension": ".py",
   "mimetype": "text/x-python",
   "name": "python",
   "nbconvert_exporter": "python",
   "pygments_lexer": "ipython3",
   "version": "3.11.6"
  }
 },
 "nbformat": 4,
 "nbformat_minor": 1
}
